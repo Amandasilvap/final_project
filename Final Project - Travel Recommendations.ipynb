{
 "cells": [
  {
   "cell_type": "markdown",
   "id": "6238ccdf",
   "metadata": {},
   "source": [
    "# Final Project - Travel Recommendations"
   ]
  },
  {
   "cell_type": "markdown",
   "id": "2b33381b",
   "metadata": {},
   "source": [
    "##### Import Libraries"
   ]
  },
  {
   "cell_type": "code",
   "execution_count": 151,
   "id": "2f08770a",
   "metadata": {},
   "outputs": [],
   "source": [
    "import requests\n",
    "from bs4 import BeautifulSoup\n",
    "import pandas as pd\n",
    "import getpass\n",
    "from __future__ import print_function\n",
    "import json\n",
    "import sys\n",
    "from random import randint\n",
    "from time import sleep\n",
    "import numpy as np\n",
    "import matplotlib.pyplot as plt\n",
    "from sklearn.preprocessing import StandardScaler\n",
    "from sklearn.preprocessing import MinMaxScaler, RobustScaler\n",
    "from matplotlib.lines import Line2D\n",
    "from sklearn.cluster import KMeans\n",
    "from sklearn import cluster\n",
    "from sklearn.metrics import silhouette_score\n",
    "pd.set_option('display.max_columns', None)\n",
    "import matplotlib.cm as cm\n",
    "from mpl_toolkits.mplot3d import Axes3D\n",
    "from sklearn.neighbors import NearestCentroid\n",
    "from datetime import datetime"
   ]
  },
  {
   "cell_type": "code",
   "execution_count": 2,
   "id": "ceb3ba78",
   "metadata": {},
   "outputs": [],
   "source": [
    "# Which cities I can visit that is similar to others? "
   ]
  },
  {
   "cell_type": "markdown",
   "id": "79f2c5bf",
   "metadata": {},
   "source": [
    "#### CITY DATASET"
   ]
  },
  {
   "cell_type": "code",
   "execution_count": 739,
   "id": "7e5c930f",
   "metadata": {},
   "outputs": [],
   "source": [
    "city_data = pd.read_csv('csvData.csv')\n",
    "city_final = city_data[:800]"
   ]
  },
  {
   "cell_type": "code",
   "execution_count": 740,
   "id": "ee131aa3",
   "metadata": {},
   "outputs": [],
   "source": [
    "city_list = city_data[\"Name\"].tolist()[800:1170]"
   ]
  },
  {
   "cell_type": "code",
   "execution_count": 5,
   "id": "c251547a",
   "metadata": {},
   "outputs": [],
   "source": [
    "country_list = city_final['Country'].unique().tolist()"
   ]
  },
  {
   "cell_type": "markdown",
   "id": "4956f13b",
   "metadata": {},
   "source": [
    "#### COUNTRY INFORMATION"
   ]
  },
  {
   "cell_type": "code",
   "execution_count": 835,
   "id": "342be977",
   "metadata": {},
   "outputs": [],
   "source": [
    "currencies = pd.read_json(\"country-by-currency-name.json\")"
   ]
  },
  {
   "cell_type": "code",
   "execution_count": 854,
   "id": "2bfb9d2b",
   "metadata": {},
   "outputs": [],
   "source": [
    "language = pd.read_excel(\"Language List by Country and Place.xlsx\")"
   ]
  },
  {
   "cell_type": "code",
   "execution_count": 855,
   "id": "970c41ae",
   "metadata": {},
   "outputs": [],
   "source": [
    "country = pd.merge(left = city_final, right = currencies, how = 'left', left_on = \"Country\", right_on= \"country\")\n",
    "country = country.drop(['country'], axis=1)\n",
    "country_final = pd.merge(left = country, right = language, how = 'left', left_on = \"Country\", right_on= \"Country\")"
   ]
  },
  {
   "cell_type": "markdown",
   "id": "386bc3e3",
   "metadata": {},
   "source": [
    "#### WEATHER API"
   ]
  },
  {
   "cell_type": "code",
   "execution_count": 153,
   "id": "ef7ab7e3",
   "metadata": {},
   "outputs": [
    {
     "name": "stdout",
     "output_type": "stream",
     "text": [
      "········\n"
     ]
    }
   ],
   "source": [
    "key = getpass.getpass()"
   ]
  },
  {
   "cell_type": "code",
   "execution_count": 902,
   "id": "9628bf28",
   "metadata": {},
   "outputs": [],
   "source": [
    "# key_idx = 0\n",
    "# count = 0\n",
    "\n",
    "# def nextKey():\n",
    "#     global key_idx, count\n",
    "    \n",
    "#     count = 0\n",
    "#     key_idx = key_idx + 1\n",
    "#     if key_idx > len(keys)-1:\n",
    "#         key_idx = 0\n",
    "        \n",
    "#     print('Changing to key idx [%i]' % key_idx)\n",
    "\n",
    "# def getWeather(city, month):\n",
    "#     global key_idx, count\n",
    "\n",
    "#     try:\n",
    "#         response = requests.get(\n",
    "#             url=\"https://api.worldweatheronline.com/premium/v1/past-weather.ashx\",\n",
    "#             params={\n",
    "#                 \"key\": keys[key_idx],\n",
    "#                 \"type\": \"city\",\n",
    "#                 \"q\": city,\n",
    "#                 \"format\": \"json\",\n",
    "#                 \"date\": \"%s-01\" % month,\n",
    "#                 \"enddate\": \"%s-30\" % month,\n",
    "#                 \"tp\": \"24\",\n",
    "#             },\n",
    "#         ).json()\n",
    "        \n",
    "#         if 'error' in response['data']:\n",
    "#             print(\"Error in [%s]: %s\" % (city, response['data']))\n",
    "#             if 'API key has reached calls per day' in response['data']['error'][0]['msg']:\n",
    "#                 nextKey()\n",
    "#                 return getWeather(city=city, month=month)\n",
    "        \n",
    "#         count = count + 1\n",
    "#         if count == 500:\n",
    "#             nextKey()\n",
    "        \n",
    "#         return response\n",
    "    \n",
    "#     except requests.exceptions.RequestException:\n",
    "#         print('HTTP Request failed')\n",
    "\n",
    "        \n",
    "# columns = ['date', 'sunset', 'moonrise', 'moonset', 'moon_phase', 'moon_illumination', \n",
    "#            'maxtempC', 'mintempC', 'avgtempC', 'totalSnow_cm', 'sunHour', 'uvIndex', \n",
    "#            'windspeedKmph', 'winddirDegree', 'winddir16Point', 'precipMM', 'humidity', \n",
    "#            'visibility', 'pressure', 'cloudcover', 'HeatIndexC', 'DewPointC', \n",
    "#            'WindChillC', 'WindGustKmph']\n",
    "# weather_df = pd.DataFrame(columns=['city'] + columns)\n",
    "\n",
    "# dates = ['2020-01',\n",
    "#         '2020-03',\n",
    "#         '2020-04',\n",
    "#         '2020-05',\n",
    "#         '2020-06',\n",
    "#         '2020-07',\n",
    "#         '2020-08',\n",
    "#         '2020-09',\n",
    "#         '2020-10',\n",
    "#         '2020-11',\n",
    "#         '2020-12',\n",
    "#         '2021-01',\n",
    "#         '2021-02',\n",
    "#         '2021-03',\n",
    "#         '2021-04',\n",
    "#         '2021-05',\n",
    "#         '2021-06',\n",
    "#         '2021-07',\n",
    "#         '2021-08',\n",
    "#         '2021-09']\n",
    "\n",
    "# for city in city_list_usa:\n",
    "#     print('Fetching from city [%s]' % city)\n",
    "#     stop = False\n",
    "#     for date in dates:\n",
    "#         weather = getWeather(city=city, month=date)\n",
    "        \n",
    "#         if 'error' in weather['data']:\n",
    "#             print(\"Error in [%s]: %s\" % (city, weather['data']))\n",
    "#             if 'API key has reached calls per day' in weather['data']['error'][0]['msg']:\n",
    "#                 stop = True\n",
    "                \n",
    "#             if stop == True:\n",
    "#                 break\n",
    "#             else:\n",
    "#                 continue\n",
    "            \n",
    "#         weather = weather['data']['weather']\n",
    "\n",
    "#         for item in weather:\n",
    "#             row = {'city': city}\n",
    "#             for column in columns:\n",
    "#                 if column in item:\n",
    "#                     row[column] = item[column]\n",
    "#                 elif column in item['hourly'][0]:\n",
    "#                     row[column] = item['hourly'][0][column]\n",
    "#                 elif column in item['astronomy'][0]:\n",
    "#                     row[column] = item['astronomy'][0][column]\n",
    "#                 else:\n",
    "#                     print('Column [%s] not found on item [%s]' % (column, item))\n",
    "            \n",
    "#             weather_df = weather_df.append(row, ignore_index=True)\n",
    "#     if stop == True:\n",
    "#         break\n",
    "#     sleep(1)  \n",
    "# weather_df"
   ]
  },
  {
   "cell_type": "markdown",
   "id": "cadb6f1c",
   "metadata": {},
   "source": [
    "##### Different tables for Requests"
   ]
  },
  {
   "cell_type": "code",
   "execution_count": 743,
   "id": "f99a673f",
   "metadata": {},
   "outputs": [],
   "source": [
    "# Different datasert, because I need to download in parts, and cleaning some rows, duplicate\n",
    "weather_01 = pd.read_csv(\"weather_01.csv\")\n",
    "#weather_01.to_csv(\"weather_01.csv\")\n",
    "weather_02 = pd.read_csv(\"weather_02.csv\")\n",
    "#weather_02.to_csv(\"weather_02.csv\")\n",
    "weather_03 = pd.read_csv(\"weather_03.csv\")\n",
    "#weather_03.to_csv(\"weather_03.csv\")\n",
    "weather_04 = pd.read_csv(\"weather_04.csv\")\n",
    "#weather_04.to_csv(\"weather_04.csv\")\n",
    "weather_05 = pd.read_csv(\"weather_05.csv\")\n",
    "#weather_05.to_csv(\"weather_05.csv\")\n",
    "weather_06 = pd.read_csv(\"weather_06.csv\")\n",
    "#weather_06.to_csv(\"weather_06.csv\")\n",
    "weather_07 = pd.read_csv(\"weather_07.csv\")\n",
    "#weather_07.to_csv(\"weather_07.csv\")\n",
    "weather_08 = pd.read_csv(\"weather_08.csv\")\n",
    "#weather_08.to_csv(\"weather_08.csv\")\n",
    "weather_09 = pd.read_csv(\"weather_09.csv\")\n",
    "#weather_09.to_csv(\"weather_09.csv\")\n",
    "weather_10 = pd.read_csv(\"weather_10.csv\")\n",
    "#weather_10.to_csv(\"weather_10.csv\")"
   ]
  },
  {
   "cell_type": "markdown",
   "id": "2508a98b",
   "metadata": {},
   "source": [
    "##### Create a unique table"
   ]
  },
  {
   "cell_type": "code",
   "execution_count": 838,
   "id": "1ddfb24f",
   "metadata": {},
   "outputs": [],
   "source": [
    "#weather_days = pd.concat([weather_01, weather_02, weather_03, weather_04, weather_05, weather_06, weather_07, weather_08, weather_09, weather_10], ignore_index=True)"
   ]
  },
  {
   "cell_type": "code",
   "execution_count": 766,
   "id": "eeb1f21c",
   "metadata": {},
   "outputs": [],
   "source": [
    "weather_days=weather_days.drop([\"Unnamed: 0\"] , axis=1)"
   ]
  },
  {
   "cell_type": "code",
   "execution_count": 903,
   "id": "445fd847",
   "metadata": {},
   "outputs": [],
   "source": [
    "#weather_days.dtypes"
   ]
  },
  {
   "cell_type": "code",
   "execution_count": 769,
   "id": "561d9c77",
   "metadata": {},
   "outputs": [],
   "source": [
    "weather_days['moon_illumination'] = weather_days['moon_illumination'].astype(int)\n",
    "weather_days['maxtempC'] = weather_days['maxtempC'].astype(int)\n",
    "weather_days['mintempC'] = weather_days['mintempC'].astype(int)\n",
    "weather_days['avgtempC'] = weather_days['avgtempC'].astype(int)\n",
    "weather_days['totalSnow_cm'] = weather_days['totalSnow_cm'].astype(float)\n",
    "weather_days['sunHour'] = weather_days['sunHour'].astype(float)\n",
    "weather_days['uvIndex'] = weather_days['uvIndex'].astype(int)\n",
    "weather_days['windspeedKmph'] = weather_days['windspeedKmph'].astype(int)\n",
    "weather_days['winddirDegree'] = weather_days['winddirDegree'].astype(int)\n",
    "weather_days['precipMM'] = weather_days['precipMM'].astype(float)\n",
    "weather_days['humidity'] = weather_days['humidity'].astype(int)\n",
    "weather_days['visibility'] = weather_days['visibility'].astype(int)\n",
    "weather_days['pressure'] = weather_days['pressure'].astype(int)\n",
    "weather_days['cloudcover'] = weather_days['cloudcover'].astype(int)\n",
    "weather_days['HeatIndexC'] = weather_days['HeatIndexC'].astype(int)\n",
    "weather_days['DewPointC'] = weather_days['DewPointC'].astype(int)\n",
    "weather_days['WindChillC'] = weather_days['WindChillC'].astype(int)\n",
    "weather_days['WindGustKmph'] = weather_days['WindGustKmph'].astype(int)"
   ]
  },
  {
   "cell_type": "code",
   "execution_count": 770,
   "id": "0d0f74c2",
   "metadata": {},
   "outputs": [],
   "source": [
    "weather_days['year'] = pd.DatetimeIndex(weather_days['date']).year\n",
    "weather_days['month'] = pd.DatetimeIndex(weather_days['date']).month"
   ]
  },
  {
   "cell_type": "code",
   "execution_count": 866,
   "id": "f5a55a2f",
   "metadata": {},
   "outputs": [],
   "source": [
    "weather_country = pd.merge(left = weather_days,\n",
    "                                  right = country_final,\n",
    "                                  how = 'left', \n",
    "                                  left_on = \"city\", \n",
    "                                  right_on= \"Name\")\n",
    "\n",
    "weather_country = weather_country.drop(['rank','Name','Prev','Growth'], axis=1)\n"
   ]
  },
  {
   "cell_type": "code",
   "execution_count": 867,
   "id": "616d5571",
   "metadata": {},
   "outputs": [],
   "source": [
    "weather_country.to_csv(\"weather_country.csv\")\n",
    "column_names = ['city','Country', 'Population', 'currency_name', 'Language ','date', 'year', 'month','sunset', \n",
    "                'moonrise', 'moonset', 'moon_phase',\n",
    "                'moon_illumination', 'maxtempC', 'mintempC', 'avgtempC', 'totalSnow_cm',\n",
    "                'sunHour', 'uvIndex', 'windspeedKmph', 'winddirDegree',\n",
    "                'winddir16Point', 'precipMM', 'humidity', 'visibility', 'pressure',\n",
    "                'cloudcover', 'HeatIndexC', 'DewPointC', 'WindChillC', 'WindGustKmph']\n",
    "\n",
    "weather_country = weather_country.reindex(columns=column_names)\n",
    "weather_country.columns = weather_country.columns.str.lower()\n",
    "weather_country = weather_country.rename({'language ':'language'})"
   ]
  },
  {
   "cell_type": "code",
   "execution_count": 868,
   "id": "79005cb4",
   "metadata": {},
   "outputs": [],
   "source": [
    "#Creatig the table to do the predictions"
   ]
  },
  {
   "cell_type": "code",
   "execution_count": 869,
   "id": "9f63b2e2",
   "metadata": {},
   "outputs": [],
   "source": [
    "weather_country_monthly = weather_country.groupby(['month','year', 'city', 'country','currency_name','language ']).mean().round(0).reset_index() "
   ]
  },
  {
   "cell_type": "code",
   "execution_count": 880,
   "id": "63c6e164",
   "metadata": {},
   "outputs": [],
   "source": [
    "#Decided to cut some cities in China and India, because are to many, and this make some noise in my dataset\n",
    "#china_cities= weather_country_monthly[\"city\"].loc[(weather_country_monthly['country'])==\"China\"].tolist()\n",
    "#china_cities_unique = set(china_cities)\n",
    "#china_cities_unique.remove('Xi-an Shaanxi')\n",
    "\n",
    "#india= weather_country_monthly[\"city\"].loc[(weather_country_monthly['country'])==\"India\"].tolist()\n",
    "#india = set(india)\n",
    "#india.remove(\"Indore\")\n",
    "\n",
    "#weather_country_monthly = weather_country_monthly[~weather_country_monthly['city'].isin(india)].reset_index()\n",
    "#weather_country_monthly = weather_country_monthly.drop(['index'], axis=1)\n",
    "weather_country_monthly.to_csv(\"weather_country_monthly.csv\", index=False)\n",
    "#weather_country_monthly\n",
    "#weather_country_monthly.loc[(weather_country_monthly[\"city\"])==\"London\"]"
   ]
  },
  {
   "cell_type": "markdown",
   "id": "73250eec",
   "metadata": {},
   "source": [
    "## Clustering - Unsupervised Learning"
   ]
  },
  {
   "cell_type": "code",
   "execution_count": 881,
   "id": "f96c3e08",
   "metadata": {},
   "outputs": [],
   "source": [
    "weather_model = weather_country_monthly.select_dtypes(include=np.number)\n",
    "weather_model = weather_model.drop([\"month\", \"year\", \"population\"],axis=1)\n",
    "weather_model.to_csv(\"weather_model.csv\", index=False)"
   ]
  },
  {
   "cell_type": "markdown",
   "id": "b12a7667",
   "metadata": {},
   "source": [
    "###### MinMax"
   ]
  },
  {
   "cell_type": "code",
   "execution_count": 886,
   "id": "9377c054",
   "metadata": {
    "scrolled": true
   },
   "outputs": [],
   "source": [
    "minmax_scaler = MinMaxScaler().fit(weather_model)\n",
    "X = minmax_scaler.transform(weather_model)\n",
    "\n",
    "X_prep = pd.DataFrame(X,columns=weather_model.columns).head()"
   ]
  },
  {
   "cell_type": "markdown",
   "id": "755cea40",
   "metadata": {},
   "source": [
    "##### Choosing K"
   ]
  },
  {
   "cell_type": "code",
   "execution_count": 883,
   "id": "aa731357",
   "metadata": {},
   "outputs": [
    {
     "data": {
      "text/plain": [
       "Text(0.5, 1.0, 'Elbow Method showing the optimal k')"
      ]
     },
     "execution_count": 883,
     "metadata": {},
     "output_type": "execute_result"
    },
    {
     "data": {
      "image/png": "[encoded data removed]",
      "text/plain": [
       "<Figure size 1152x576 with 1 Axes>"
      ]
     },
     "metadata": {
      "needs_background": "light"
     },
     "output_type": "display_data"
    }
   ],
   "source": [
    "K = range(2, 40)\n",
    "inertia = []\n",
    "\n",
    "for k in K:\n",
    "    kmeans = KMeans(n_clusters=k,\n",
    "                    random_state=1234)\n",
    "    kmeans.fit(X)\n",
    "    inertia.append(kmeans.inertia_)\n",
    "\n",
    "import matplotlib.pyplot as plt\n",
    "%matplotlib inline\n",
    "\n",
    "plt.figure(figsize=(16,8))\n",
    "plt.plot(K, inertia, 'bs-')\n",
    "plt.xlabel('k')\n",
    "plt.ylabel('inertia')\n",
    "plt.xticks(np.arange(min(K), max(K)+1, 1.0))\n",
    "plt.title('Elbow Method showing the optimal k')"
   ]
  },
  {
   "cell_type": "code",
   "execution_count": 884,
   "id": "af042dc1",
   "metadata": {},
   "outputs": [
    {
     "data": {
      "text/plain": [
       "Text(0.5, 1.0, 'Elbow Method showing the optimal k')"
      ]
     },
     "execution_count": 884,
     "metadata": {},
     "output_type": "execute_result"
    },
    {
     "data": {
      "image/png": "[encoded data removed]",
      "text/plain": [
       "<Figure size 1152x576 with 1 Axes>"
      ]
     },
     "metadata": {
      "needs_background": "light"
     },
     "output_type": "display_data"
    }
   ],
   "source": [
    "K = range(2, 40)\n",
    "silhouette = []\n",
    "\n",
    "for k in K:\n",
    "    kmeans = KMeans(n_clusters=k,\n",
    "                    random_state=1234)\n",
    "    kmeans.fit(X)\n",
    "    silhouette.append(silhouette_score(X, kmeans.predict(X)))\n",
    "\n",
    "\n",
    "plt.figure(figsize=(16,8))\n",
    "plt.plot(K, silhouette, 'bo-')\n",
    "plt.xlabel('k')\n",
    "plt.ylabel('silhouette score')\n",
    "plt.xticks(np.arange(min(K), max(K)+1, 1.0))\n",
    "plt.title('Elbow Method showing the optimal k')"
   ]
  },
  {
   "cell_type": "code",
   "execution_count": 885,
   "id": "6191840b",
   "metadata": {},
   "outputs": [
    {
     "name": "stdout",
     "output_type": "stream",
     "text": [
      "number of estimated clusters : 13\n"
     ]
    }
   ],
   "source": [
    "from sklearn.cluster import MeanShift, estimate_bandwidth\n",
    "\n",
    "bandwidth = estimate_bandwidth(X, quantile=0.1, n_samples=10000)\n",
    "ms = MeanShift(bandwidth=bandwidth, bin_seeding=True)\n",
    "ms.fit(X)\n",
    "labels = ms.labels_\n",
    "labels_unique = np.unique(labels)\n",
    "n_clusters_ = len(labels_unique)\n",
    "\n",
    "print(\"number of estimated clusters : %d\" % n_clusters_)"
   ]
  },
  {
   "cell_type": "markdown",
   "id": "4b923b04",
   "metadata": {},
   "source": [
    "##### Cluster"
   ]
  },
  {
   "cell_type": "code",
   "execution_count": 887,
   "id": "6b62be09",
   "metadata": {},
   "outputs": [
    {
     "data": {
      "text/plain": [
       "0    2585\n",
       "1    2123\n",
       "2     923\n",
       "3    1245\n",
       "4     442\n",
       "5    2502\n",
       "dtype: int64"
      ]
     },
     "execution_count": 887,
     "metadata": {},
     "output_type": "execute_result"
    }
   ],
   "source": [
    "kmeans = KMeans(n_clusters=6, n_init = 50, max_iter=100, random_state = 1234)\n",
    "y_kmeans = kmeans.fit_predict(X)\n",
    "# Predicting / assigning the clusters:\n",
    "clusters = kmeans.predict(X)\n",
    "# Check the size of the clusters\n",
    "pd.Series(clusters).value_counts().sort_index()"
   ]
  },
  {
   "cell_type": "code",
   "execution_count": 888,
   "id": "29102cb7",
   "metadata": {},
   "outputs": [
    {
     "name": "stdout",
     "output_type": "stream",
     "text": [
      "2906.0563963921163\n",
      "Silhouetter Score: 0.209\n",
      "1483.1015490815364\n"
     ]
    },
    {
     "data": {
      "text/plain": [
       "-1483.1015490815362"
      ]
     },
     "execution_count": 888,
     "metadata": {},
     "output_type": "execute_result"
    }
   ],
   "source": [
    "# Calculate Scores\n",
    "score = silhouette_score(X, kmeans.labels_, metric='euclidean')\n",
    "print(metrics.calinski_harabasz_score(X, kmeans.labels_))\n",
    "print('Silhouetter Score: %.3f' % score)\n",
    "print(kmeans.inertia_)\n",
    "kmeans.score(X)"
   ]
  },
  {
   "cell_type": "code",
   "execution_count": 889,
   "id": "3f9dd41e",
   "metadata": {},
   "outputs": [
    {
     "data": {
      "image/png": "[encoded data removed]",
      "text/plain": [
       "<Figure size 360x360 with 1 Axes>"
      ]
     },
     "metadata": {
      "needs_background": "light"
     },
     "output_type": "display_data"
    }
   ],
   "source": [
    "plt.figure(figsize=(5,5))\n",
    "plt.scatter(X[:,0], X[:,1], c=clusters, alpha=0.5)\n",
    "plt.show()"
   ]
  },
  {
   "cell_type": "code",
   "execution_count": null,
   "id": "2879933e",
   "metadata": {},
   "outputs": [],
   "source": [
    "#testing other models, but seems that KMEANs perform better"
   ]
  },
  {
   "cell_type": "code",
   "execution_count": 890,
   "id": "cd567977",
   "metadata": {},
   "outputs": [
    {
     "name": "stdout",
     "output_type": "stream",
     "text": [
      "0.16656051702473598\n"
     ]
    },
    {
     "data": {
      "text/plain": [
       "0    2442\n",
       "1    2851\n",
       "2     573\n",
       "3     367\n",
       "4    2444\n",
       "5    1143\n",
       "dtype: int64"
      ]
     },
     "execution_count": 890,
     "metadata": {},
     "output_type": "execute_result"
    }
   ],
   "source": [
    "# agglomerative clustering\n",
    "from numpy import unique\n",
    "from sklearn.cluster import AgglomerativeClustering\n",
    "\n",
    "# define the model\n",
    "ac = AgglomerativeClustering(n_clusters=6)\n",
    "# fit model and predict clusters\n",
    "cluster_ac = ac.fit_predict(X)\n",
    "labels_ac = ac.labels_\n",
    "print(metrics.silhouette_score(X, labels_ac, metric='euclidean'))\n",
    "pd.Series(cluster_ac).value_counts().sort_index()\n"
   ]
  },
  {
   "cell_type": "code",
   "execution_count": 891,
   "id": "b70e6f6e",
   "metadata": {},
   "outputs": [
    {
     "name": "stdout",
     "output_type": "stream",
     "text": [
      "0.21840243671713022\n"
     ]
    },
    {
     "data": {
      "text/plain": [
       "0    3305\n",
       "1    3237\n",
       "2    1661\n",
       "3    1126\n",
       "4     367\n",
       "5     124\n",
       "dtype: int64"
      ]
     },
     "execution_count": 891,
     "metadata": {},
     "output_type": "execute_result"
    }
   ],
   "source": [
    "# birch clustering\n",
    "from sklearn.cluster import Birch\n",
    "\n",
    "# define the model\n",
    "birch = Birch(threshold=0.01, n_clusters=6)\n",
    "# fit the model\n",
    "birch.fit(X)\n",
    "# assign a cluster to each example\n",
    "cluster_birch = birch.predict(X)\n",
    "labels_birch = birch.labels_\n",
    "print(metrics.silhouette_score(X, labels_birch, metric='euclidean'))\n",
    "pd.Series(cluster_birch).value_counts().sort_index()"
   ]
  },
  {
   "cell_type": "markdown",
   "id": "9677adfe",
   "metadata": {},
   "source": [
    "##### Testing Scalers (Stand, MinMax scaler and Robutscaler)"
   ]
  },
  {
   "cell_type": "code",
   "execution_count": 892,
   "id": "c253318b",
   "metadata": {},
   "outputs": [
    {
     "name": "stdout",
     "output_type": "stream",
     "text": [
      "2906.0563963921163\n",
      "Silhouetter Score: 0.209\n",
      "1483.1015490815364\n",
      "-1483.1015490815362\n"
     ]
    }
   ],
   "source": [
    "minmax_scaler = MinMaxScaler().fit(weather_model)\n",
    "\n",
    "X1 = minmax_scaler.transform(weather_model)\n",
    "X1_prep = pd.DataFrame(X1,columns=weather_model.columns).head()\n",
    "kmeans1 = KMeans(n_clusters=7, n_init = 100, max_iter=1000, random_state = 1234)\n",
    "y_kmeans = kmeans.fit_predict(X1)\n",
    "\n",
    "# Predicting / assigning the clusters:\n",
    "clusters = kmeans.predict(X1)\n",
    "\n",
    "# Calculate Scores\n",
    "score = silhouette_score(X1, kmeans.labels_, metric='euclidean')\n",
    "print(metrics.calinski_harabasz_score(X1, kmeans.labels_))\n",
    "print('Silhouetter Score: %.3f' % score)\n",
    "print(kmeans.inertia_)\n",
    "print(kmeans.score(X1))\n",
    "\n",
    "# Check the size of the clusters\n",
    "#pd.Series(clusters).value_counts().sort_index()"
   ]
  },
  {
   "cell_type": "code",
   "execution_count": 893,
   "id": "69ff5972",
   "metadata": {},
   "outputs": [
    {
     "name": "stdout",
     "output_type": "stream",
     "text": [
      "2301.1976538579506\n",
      "Silhouetter Score: 0.179\n",
      "81366.05722805325\n",
      "-81366.05722805327\n"
     ]
    }
   ],
   "source": [
    "scaler = StandardScaler().fit(weather_model)\n",
    "\n",
    "X2 = scaler.transform(weather_model)\n",
    "X_prep2 = pd.DataFrame(X2,columns=weather_model.columns).head()\n",
    "\n",
    "kmeans2 = KMeans(n_clusters=6, n_init = 50, max_iter=1000, random_state = 1234)\n",
    "y_kmeans2 = kmeans.fit_predict(X2)\n",
    "\n",
    "# Predicting / assigning the clusters:\n",
    "clusters2 = kmeans.predict(X2)\n",
    "\n",
    "# Calculate Scores\n",
    "score = silhouette_score(X2, kmeans.labels_, metric='euclidean')\n",
    "print(metrics.calinski_harabasz_score(X2, kmeans.labels_))\n",
    "print('Silhouetter Score: %.3f' % score)\n",
    "print(kmeans.inertia_)\n",
    "print(kmeans.score(X2))\n",
    "\n",
    "# Check the size of the clusters\n",
    "#print(clusters)\n",
    "#pd.Series(clusters).value_counts().sort_index()"
   ]
  },
  {
   "cell_type": "code",
   "execution_count": 894,
   "id": "782eab41",
   "metadata": {
    "scrolled": true
   },
   "outputs": [
    {
     "name": "stdout",
     "output_type": "stream",
     "text": [
      "6357.982835826088\n",
      "Silhouetter Score: 0.203\n",
      "55081.80867722391\n",
      "-55081.80867722392\n"
     ]
    }
   ],
   "source": [
    "robut = RobustScaler().fit(weather_model)\n",
    "\n",
    "X3 = robut.transform(weather_model)\n",
    "X3_prep = pd.DataFrame(X3,columns=weather_model.columns).head()\n",
    "\n",
    "kmeans3 = KMeans(n_clusters=7, n_init = 50, max_iter=1000, random_state = 1234)\n",
    "y_kmeans3 = kmeans.fit_predict(X3)\n",
    "\n",
    "# Predicting / assigning the clusters:\n",
    "clusters = kmeans.predict(X3)\n",
    "\n",
    "# Calculate Scores\n",
    "score = silhouette_score(X3, kmeans.labels_, metric='euclidean')\n",
    "print(metrics.calinski_harabasz_score(X3, kmeans.labels_))\n",
    "print('Silhouetter Score: %.3f' % score)\n",
    "print(kmeans.inertia_)\n",
    "print(kmeans.score(X3))\n",
    "\n",
    "# Check the size of the clusters\n",
    "#print(clusters)\n",
    "#pd.Series(clusters).value_counts().sort_index()"
   ]
  },
  {
   "cell_type": "code",
   "execution_count": null,
   "id": "92f25bdb",
   "metadata": {},
   "outputs": [],
   "source": [
    "#with different scalers I saw that the minmax give me best score, and trying \n",
    "#different combinations of attributes on kmeans, my score perform better with 6 clusters"
   ]
  },
  {
   "cell_type": "markdown",
   "id": "089aca25",
   "metadata": {},
   "source": [
    "### Putting all Together"
   ]
  },
  {
   "cell_type": "code",
   "execution_count": 895,
   "id": "c10a3eb9",
   "metadata": {},
   "outputs": [],
   "source": [
    "clusters = pd.Series(clusters)\n",
    "weather_cluster = pd.concat([weather_country_monthly, clusters], axis=1)\n",
    "weather_cluster = weather_cluster.rename(columns={0: 'cluster_kmeans'})\n",
    "#weather_cluster"
   ]
  },
  {
   "cell_type": "code",
   "execution_count": 379,
   "id": "bb427c47",
   "metadata": {},
   "outputs": [],
   "source": [
    "#used to compare the methods\n",
    "#cluster_birch = pd.Series(cluster_birch)\n",
    "#weather_cluster = pd.concat([weather_cluster, cluster_birch], axis=1)\n",
    "#weather_cluster= weather_cluster.rename(columns={0: 'cluster_birch'})\n",
    "#cluster_ac = pd.Series(cluster_ac)\n",
    "#weather_cluster = pd.concat([weather_cluster, cluster_ac], axis=1)\n",
    "#weather_cluster= weather_cluster.rename(columns={0: 'cluster_ac'})\n"
   ]
  },
  {
   "cell_type": "markdown",
   "id": "13fd7dcf",
   "metadata": {},
   "source": [
    "##### Saving the final dataset"
   ]
  },
  {
   "cell_type": "code",
   "execution_count": 896,
   "id": "5aebc985",
   "metadata": {},
   "outputs": [],
   "source": [
    "weather_cluster.to_csv('weather_cluster.csv', index=False)"
   ]
  },
  {
   "cell_type": "markdown",
   "id": "da4dad56",
   "metadata": {},
   "source": [
    "#### Making the Travel Recomender"
   ]
  },
  {
   "cell_type": "code",
   "execution_count": 897,
   "id": "43d75f02",
   "metadata": {},
   "outputs": [],
   "source": [
    "def getWeather(city, month):\n",
    "    try:\n",
    "        response = requests.get(\n",
    "            url=\"https://api.worldweatheronline.com/premium/v1/past-weather.ashx\",\n",
    "            params={\"key\": key, \"type\": \"city\", \"q\": city, \"format\": \"json\", \"date\": \"%s-01\" % month,\"enddate\": \"%s-30\" % month,\n",
    "                \"tp\": \"24\",},).json()                   \n",
    "        return response\n",
    "    \n",
    "    except requests.exceptions.RequestException:\n",
    "        print('HTTP Request failed')\n",
    "\n",
    "        \n",
    "def Weather_Usersearch(city, month):\n",
    "    columns = ['moon_illumination', 'maxtempC', 'mintempC', 'avgtempC', 'totalSnow_cm', 'sunHour', 'uvIndex', \n",
    "               'windspeedKmph', 'winddirDegree','precipMM', 'humidity', 'visibility', 'pressure', 'cloudcover', 'HeatIndexC', 'DewPointC', \n",
    "               'WindChillC', 'WindGustKmph']\n",
    "    weather_user = pd.DataFrame(columns= columns)\n",
    "\n",
    "    year = 2021\n",
    "    current_month = datetime.today().strftime('%m')\n",
    "    if int(month) > int(current_month):\n",
    "        year = int(datetime.today().strftime('%Y')) - 1\n",
    "    else:\n",
    "        year= int(datetime.today().strftime('%Y'))\n",
    "\n",
    "    weather = getWeather(city=city, month=\"%i-%s\" % (year, month))   \n",
    "    weather = weather['data']['weather']\n",
    "\n",
    "    for item in weather:\n",
    "        row = {}\n",
    "        for column in columns:\n",
    "            if column in item:\n",
    "                row[column] = item[column]\n",
    "            elif column in item['hourly'][0]:\n",
    "                row[column] = item['hourly'][0][column]\n",
    "            elif column in item['astronomy'][0]:\n",
    "                row[column] = item['astronomy'][0][column]\n",
    "            else:\n",
    "                print('Column [%s] not found on item [%s]' % (column, item))\n",
    "\n",
    "        weather_user = weather_user.append(row, ignore_index=True)\n",
    "        weather_user = weather_user.apply(pd.to_numeric)\n",
    "        weather_user = weather_user.mean().round(0).to_frame().T\n",
    "        weather_user_cluster = minmax_scaler.transform(weather_user)\n",
    "        weather_user_cluster = kmeans.predict(weather_user_cluster)\n",
    "        weather_user_cluster = pd.Series(weather_user_cluster).values[0]\n",
    "    return weather_user_cluster\n"
   ]
  },
  {
   "cell_type": "code",
   "execution_count": 898,
   "id": "48faa97b",
   "metadata": {},
   "outputs": [
    {
     "data": {
      "text/plain": [
       "5"
      ]
     },
     "execution_count": 898,
     "metadata": {},
     "output_type": "execute_result"
    }
   ],
   "source": [
    "Weather_Usersearch(\"Formigas\", \"8\")"
   ]
  },
  {
   "cell_type": "code",
   "execution_count": null,
   "id": "0ac07408",
   "metadata": {},
   "outputs": [],
   "source": [
    "rapidAPIkey = getpass.getpass()"
   ]
  },
  {
   "cell_type": "code",
   "execution_count": 899,
   "id": "6202b024",
   "metadata": {},
   "outputs": [],
   "source": [
    "def city_code(city_name):\n",
    "    url = \"https://skyscanner-skyscanner-flight-search-v1.p.rapidapi.com/apiservices/autosuggest/v1.0/US/USD/en-US/\"\n",
    "    params = {\"query\": city_name}\n",
    "    headers = {'x-rapidapi-host': \"skyscanner-skyscanner-flight-search-v1.p.rapidapi.com\",\n",
    "               'x-rapidapi-key': rapidAPIkey}\n",
    "    response = requests.get(url, headers = headers, params = params)\n",
    "    if len(response.json()[\"Places\"]) > 0:\n",
    "        return response.json()[\"Places\"][0][\"PlaceId\"]\n",
    "    else:\n",
    "        return -1\n",
    "\n",
    "def flight_prices(departure, arrival, date):\n",
    "    departure_code = city_code(departure)\n",
    "    arrival_code = city_code(arrival)\n",
    "    \n",
    "    if departure_code == -1 or arrival_code == -1:\n",
    "        return {}\n",
    "    \n",
    "    url = f\"https://skyscanner-skyscanner-flight-search-v1.p.rapidapi.com/apiservices/browsequotes/v1.0/DE/EUR/en-US/{departure_code}/{arrival_code}/{date}\"\n",
    "    params = {\"inboundpartialdate\":{date}}\n",
    "    headers = {\n",
    "    'x-rapidapi-host': \"skyscanner-skyscanner-flight-search-v1.p.rapidapi.com\",\n",
    "    'x-rapidapi-key': rapidAPIkey}\n",
    "    response = requests.get(url, headers=headers, params=params)\n",
    "    return response.json()\n",
    "\n",
    "def get_dates(start, end):\n",
    "    return pd.Series(pd.date_range(start, end,freq='d').format())\n",
    "\n",
    "def flight_days(origin, destination, start, end):\n",
    "    dates = get_dates(start, end)\n",
    "    return {date:flight_prices(origin, destination, date) for date in dates}\n",
    "\n",
    "def lowest_price(origin, destination, date):\n",
    "    flights = flight_prices(origin, destination, date)\n",
    "    min_quote = {'MinPrice': 99999}\n",
    "    if \"Quotes\" not in flights:\n",
    "        return {}\n",
    "    \n",
    "    for quote in flights[\"Quotes\"]:\n",
    "        if quote['MinPrice'] < min_quote['MinPrice']:\n",
    "            min_quote = quote\n",
    "\n",
    "    if 'OutboundLeg' not in min_quote:\n",
    "        return {}\n",
    "    \n",
    "    price = {'date': min_quote['OutboundLeg']['DepartureDate'][:10],\n",
    "             'price': min_quote[\"MinPrice\"]}\n",
    "    return price\n",
    "    #return min(prices, key = prices.get)"
   ]
  },
  {
   "cell_type": "markdown",
   "id": "af591c57",
   "metadata": {},
   "source": [
    "### Imput and Output Travel"
   ]
  },
  {
   "cell_type": "code",
   "execution_count": 901,
   "id": "d9a506df",
   "metadata": {},
   "outputs": [
    {
     "name": "stdout",
     "output_type": "stream",
     "text": [
      "Hello! Let me give you suggestions for your next trip! \n",
      "\n",
      "Enter your favorite city, or somewhere you've already visited. \n",
      "\n",
      "City name: New York City\n",
      "\n",
      " Think of the month when the weather was nice in this place \n",
      "\n",
      "Month: 4\n",
      "\n",
      " These cities can be a good choice: \n",
      "\n",
      "You can choose Birmingham located United Kingdom and they speak: English and the currency is Pound Sterling \n",
      "\n",
      "You can choose Aguascalientes located Mexico and they speak: Spanish and the currency is Mexican Nuevo Peso \n",
      "\n",
      "You can choose Algiers located Algeria and they speak: Arabic, French and the currency is Algerian Dinar \n",
      "\n",
      "You can choose Warsaw located Poland and they speak: Polish  and the currency is Polish Zloty \n",
      "\n",
      "You can choose Chengde located China and they speak: Cantonese, Mandarin and the currency is Yuan Renminbi \n",
      "\n",
      "\n",
      " Now let us help to show some flights price for you for our recommendations \n",
      "\n",
      "Current city name: berlin\n",
      "\n",
      " Flights not found for Birmingham\n",
      "\n",
      " Flights not found for Aguascalientes\n",
      "\n",
      " Flights not found for Algiers\n",
      "\n",
      " Lowest price for Warsaw is 48 EUR in 2022-04-14\n",
      "\n",
      " Flights not found for Chengde\n"
     ]
    }
   ],
   "source": [
    "print(\"Hello! Let me give you suggestions for your next trip!\",\"\\n\")\n",
    "sleep(1)\n",
    "\n",
    "print(\"Enter your favorite city, or somewhere you've already visited.\",\"\\n\")\n",
    "sleep(1)\n",
    "\n",
    "city_user = input(\"City name: \")\n",
    "\n",
    "print(\"\\n\",\"Think of the month when the weather was nice in this place\",\"\\n\")\n",
    "sleep(1)\n",
    "\n",
    "month= int(input(\"Month: \"))\n",
    "\n",
    "choice = weather_cluster.loc[(weather_cluster['city'].str.lower() == city_user.lower()) & (weather_cluster['month'] == month)]\n",
    "\n",
    "list_result = []\n",
    "\n",
    "if len(choice) > 0:\n",
    "    suggest = weather_cluster.loc[weather_cluster['cluster_kmeans'] == choice['cluster_kmeans'].values[0]].sample(5)\n",
    "    print(\"\\n\",\"These cities can be a good choice:\",\"\\n\")\n",
    "    for index, item in suggest.iterrows():\n",
    "        print(\"You can choose\",item['city'], \"located\" ,item['country'], \n",
    "              \"and they speak:\",item['language '],\"and the currency is\", item['currency_name'],\"\\n\")\n",
    "        list_result.append(item['city'])\n",
    "    sleep(1)\n",
    "else:\n",
    "    weather_user_cluster = Weather_Usersearch(city_user, month)\n",
    "    if weather_user_cluster >=0:\n",
    "        weather_cluster.loc[weather_cluster['cluster_kmeans'] == weather_user_cluster].sample(5)\n",
    "        print(\"These cities can be a good choice too:\",\"\\n\")\n",
    "        for index, item in suggest.iterrows():\n",
    "            print(\"You can choose\",item['city'], \"located\" ,item['country'], \n",
    "                  \"and they speak:\",item['language '],\"and the currency is\", item['currency_name'],\"\\n\")\n",
    "            list_result.append(item['city'])\n",
    "        sleep(1)\n",
    "    else:\n",
    "        print(\"Not Found this city\")\n",
    "sleep(1)\n",
    "\n",
    "print(\"\\n\",\"Now let us help to show some flights price for you for our recommendations\",\"\\n\")\n",
    "\n",
    "current_city = input(\"Current city name: \")\n",
    "\n",
    "for city in list_result:\n",
    "    price = lowest_price(current_city, city, \"2022-%02d\" % month)\n",
    "    if 'price' in price:\n",
    "        print(\"\\n\",'Lowest price for %s is %i EUR in %s' % (city, price['price'], price['date']))\n",
    "    else:\n",
    "        print(\"\\n\",'Flights not found for %s' % city)\n"
   ]
  },
  {
   "cell_type": "code",
   "execution_count": null,
   "id": "f7cca1ec",
   "metadata": {},
   "outputs": [],
   "source": []
  }
 ],
 "metadata": {
  "kernelspec": {
   "display_name": "Python 3",
   "language": "python",
   "name": "python3"
  },
  "language_info": {
   "codemirror_mode": {
    "name": "ipython",
    "version": 3
   },
   "file_extension": ".py",
   "mimetype": "text/x-python",
   "name": "python",
   "nbconvert_exporter": "python",
   "pygments_lexer": "ipython3",
   "version": "3.9.6"
  }
 },
 "nbformat": 4,
 "nbformat_minor": 5
}
